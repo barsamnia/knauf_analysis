{
 "cells": [
  {
   "cell_type": "code",
   "execution_count": 5,
   "metadata": {},
   "outputs": [],
   "source": [
    "class knauf():\n",
    "    # Constructor و سایر متدهای اصلی تغییری نمی‌کنند\n",
    "    # ...\n",
    "\n",
    "    def concat_data(self):\n",
    "        if not hasattr(self, 'cal_data') or not hasattr(self, 'read_list'):\n",
    "            raise ValueError(\"DataFrames are missing. Ensure to call 'import_data' and 'create_dataframe_from_data' first.\")\n",
    "        self.knauf_list = pd.concat([self.read_list, self.cal_data[['amount_metr']]], axis=1)\n",
    "\n",
    "    def add_salable_amount(self):\n",
    "        divisors = [4, 4, 4, 3, 1000, 1000, 100, 1, 1, 1, 1, 1]\n",
    "        if len(self.cal_data['amount_metr']) != len(divisors):\n",
    "            raise ValueError(\"Length of divisors does not match length of amount_metr.\")\n",
    "        self.cal_data['salable_amount'] = [\n",
    "            self.find_smallest_divisible(amount, divisor)\n",
    "            for amount, divisor in zip(self.cal_data['amount_metr'], divisors)\n",
    "        ]\n",
    "\n",
    "    def calculate_mat_price(self):\n",
    "        if 'salable_amount' not in self.cal_data or 'mat_price' not in self.read_list:\n",
    "            raise ValueError(\"Missing necessary columns for price calculation.\")\n",
    "        self.knauf_list['material_price'] = self.cal_data['salable_amount'] * self.read_list['mat_price']\n",
    "\n",
    "    def add_sale_percentages(self):\n",
    "        if 'material_price' not in self.knauf_list:\n",
    "            raise ValueError(\"Material price not calculated yet.\")\n",
    "        sum_total_price = self.knauf_list['material_price'].sum()\n",
    "        self.knauf_list.loc[len(self.knauf_list)] = ['Total', '', '', '', sum_total_price]\n",
    "        \n",
    "        # بسته‌بندی\n",
    "        for i, row in self.knauf_list.iterrows():\n",
    "            if 'panel_metr' in row['Materials']:\n",
    "                self.knauf_list.loc[i, 'adjusted_price'] = row['material_price'] * 1.035\n",
    "            elif row['Materials'] in ['nabshi_metr', 'f_47_metr', 'u_36_metr']:\n",
    "                self.knauf_list.loc[i, 'adjusted_price'] = row['material_price'] * 1.025\n",
    "        \n",
    "        # انبارداری\n",
    "        storage_price = self.knauf_list['adjusted_price'].sum() * 0.01\n",
    "        self.knauf_list.loc[len(self.knauf_list)] = ['Storage Fee', '', '', '', storage_price]\n",
    "        \n",
    "        # مالیات بر ارزش افزوده\n",
    "        tax = (sum_total_price + storage_price) * 0.1\n",
    "        self.knauf_list.loc[len(self.knauf_list)] = ['VAT', '', '', '', tax]\n",
    "        \n",
    "    def save_to_excel(self):\n",
    "        if not hasattr(self, 'knauf_list'):\n",
    "            raise ValueError(\"The knauf_list has not been initialized. Please run concat_data first.\")\n",
    "        file_name = f\"{self.name_p}.xlsx\"\n",
    "        self.knauf_list.to_excel(file_name, index=False)\n",
    "        print(f'Data for material saved to {file_name}')\n"
   ]
  }
 ],
 "metadata": {
  "kernelspec": {
   "display_name": "base",
   "language": "python",
   "name": "python3"
  },
  "language_info": {
   "codemirror_mode": {
    "name": "ipython",
    "version": 3
   },
   "file_extension": ".py",
   "mimetype": "text/x-python",
   "name": "python",
   "nbconvert_exporter": "python",
   "pygments_lexer": "ipython3",
   "version": "3.11.5"
  }
 },
 "nbformat": 4,
 "nbformat_minor": 2
}
