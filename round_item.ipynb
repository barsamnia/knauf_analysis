{
 "cells": [
  {
   "cell_type": "code",
   "execution_count": null,
   "metadata": {},
   "outputs": [],
   "source": [
    "def round_to_selling(self, divisors):\n",
    "    \"\"\" Return data adjusted by specific divisors. \"\"\"\n",
    "    salable_amount = {}\n",
    "    for key, value in self.data.items():\n",
    "        divisor = divisors.get(key)\n",
    "        salable_amount[key] = value / divisor\n",
    "    return salable_amount\n",
    "\n",
    "divisors = { 'nabshi_metr': 4,\n",
    "             'f_47_metr': 4,\n",
    "             'u_36_metr': 4,\n",
    "             'panel_metr': 3,\n",
    "             'pich_panel_dane_adad': 1000,\n",
    "             'pich_saze_dane_adad': 1000,\n",
    "             'mikh_chashni_dane_adad': 100,\n",
    "             'ht_90_adad': 1, \n",
    "             'beraket_adad': 1, \n",
    "             'clips_adad': 1,\n",
    "             'rabet_w_adad': 1,\n",
    "             'rolplak_adad': 1 } \n",
    "\n",
    " salable_amount = project.round_to_selling(divisors)"
   ]
  }
 ],
 "metadata": {
  "kernelspec": {
   "display_name": "Python 3",
   "language": "python",
   "name": "python3"
  },
  "language_info": {
   "name": "python",
   "version": "3.13.0"
  }
 },
 "nbformat": 4,
 "nbformat_minor": 2
}
