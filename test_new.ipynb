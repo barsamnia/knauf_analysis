{
 "cells": [
  {
   "cell_type": "code",
   "execution_count": 54,
   "metadata": {},
   "outputs": [
    {
     "ename": "SyntaxError",
     "evalue": "invalid syntax (3390812774.py, line 82)",
     "output_type": "error",
     "traceback": [
      "\u001b[1;36m  Cell \u001b[1;32mIn[54], line 82\u001b[1;36m\u001b[0m\n\u001b[1;33m    return self.cal_data = pd.DataFrame(self.data)\u001b[0m\n\u001b[1;37m                         ^\u001b[0m\n\u001b[1;31mSyntaxError\u001b[0m\u001b[1;31m:\u001b[0m invalid syntax\n"
     ]
    }
   ],
   "source": [
    "import pandas as pd\n",
    "import os\n",
    "\n",
    "class knauf():\n",
    "  def __init__(self, nabshi = None , f_47 = None , u_36 = None , panel = None, pich_panel = None,\n",
    "              pich_saze = None ,mikh_chashni =None , ht_90 = None, beraket = None,\n",
    "              clips = None, rabet_w = None, metrazh = int ,m_aviz = int , name_p = str,\n",
    "              rolplak = None):\n",
    "    self.nabshi = nabshi\n",
    "    self.f_47 = f_47\n",
    "    self.u_36 = u_36\n",
    "    self.panel = panel\n",
    "    self.pich_panel = pich_panel\n",
    "    self.pich_saze = pich_saze\n",
    "    self.mikh_chashni = mikh_chashni\n",
    "    self.ht_90 = ht_90\n",
    "    self.beraket = beraket\n",
    "    self.clips = clips\n",
    "    self.rabet_w = rabet_w\n",
    "    self.metrazh = metrazh\n",
    "    self.m_aviz = m_aviz\n",
    "    self.name_p = name_p\n",
    "    self.rolplak = rolplak\n",
    "    #self.ceiling_typeA()\n",
    "\n",
    "  def __repr__(self):\n",
    "    \"\"\" Returns:show defined class with getting data \"\"\"\n",
    "    return 'knauf project {}, metrazh {} metr, andaze aviz {} cm '.format(self.name_p,self.metrazh,self.m_aviz)\n",
    "  \n",
    "  '''getting undefaulf data from user'''\n",
    "  def get_data(self):\n",
    "    try :\n",
    "      metrazh = int(input( \"metrazh_kar  : metr  \"))\n",
    "    except :\n",
    "      metrazh = int(input( \"metrazh_kar  : metr  \"))\n",
    "\n",
    "    try :\n",
    "      m_aviz = int(input(\"andaze aviz : cm  \"))\n",
    "    except :\n",
    "      m_aviz = int(input(\"andaze aviz : cm  \"))\n",
    "\n",
    "    try :\n",
    "      name_p = str(input(\"name proje :  \"))\n",
    "    except :\n",
    "      name_p = str(input(\"name proje :  \"))\n",
    "      \n",
    "    self.metrazh = metrazh\n",
    "    self.m_aviz = m_aviz\n",
    "    self.name_p = name_p\n",
    "\n",
    "  def ceiling_typeA(self):\n",
    "    \"\"\" Returns:calculate materials for ceiling type a \"\"\"\n",
    "    self.nabshi = self.metrazh * 0.7\n",
    "    self.f_47 = self.metrazh * 3.4\n",
    "    self.u_36 = self.metrazh * (self.m_aviz * 0.019)\n",
    "    self.panel = self.metrazh * 1.05\n",
    "    self.pich_panel = self.metrazh * 17\n",
    "    self.pich_saze = self.metrazh * 12\n",
    "    self.mikh_chashni = self.metrazh * 1.9\n",
    "    self.ht_90 = self.metrazh * 1.9\n",
    "    self.beraket = self.metrazh * 1.9\n",
    "    self.clips = self.metrazh * 2.6\n",
    "    self.rabet_w = self.metrazh * 0.7\n",
    "    self.rolplak = self.metrazh * (0.7 * 3)\n",
    "    self.data = {\n",
    "            'nabshi_metr': self.nabshi,\n",
    "            'f_47_metr': self.f_47,\n",
    "            'u_36_metr': self.u_36,\n",
    "            'panel_metr': self.panel,\n",
    "            'pich_panel_dane_adad': self.pich_panel,\n",
    "            'pich_saze_dane_adad': self.pich_saze,\n",
    "            'mikh_chashni_dane_adad': self.mikh_chashni,\n",
    "            'ht_90_adad': self.ht_90,\n",
    "            'beraket_adad': self.beraket,\n",
    "            'clips_adad': self.clips,\n",
    "            'rabet_w_adad': self.rabet_w,\n",
    "            'rolplak_adad': self.rolplak\n",
    "           }\n",
    "    return self.data \n",
    "  \n",
    "  def create_dataframe_from_data(self):\n",
    "    return self.cal_data = pd.DataFrame(self.data)\n",
    "\n",
    "  '''Material and mat_price columns , read a created list of material in excel that user created it'''\n",
    "\n",
    "  def import_data(self):\n",
    "    if not os.path.exists('list_price.xlsx'):\n",
    "        raise FileNotFoundError(\"The file 'list_price.xlsx' does not exist.\")\n",
    "    self.read_list = pd.read_excel('list_price.xlsx')\n",
    "\n",
    "  \n",
    "  def concat_data(self):\n",
    "    self.knauf_list = pd.concat( [self.read_list, self.cal_data], axis = 1 )\n",
    "\n",
    "  '''define for calculate salabale amount of materials '''\n",
    "  def find_smallest_divisible(self, value, divisor):\n",
    "    if divisor == 0:\n",
    "        raise ValueError(\"Divisor cannot be zero.\")\n",
    "    while value % divisor != 0:\n",
    "        value += 1\n",
    "    return value\n",
    "\n",
    "\n",
    "  def add_salable_amount(self):\n",
    "    divisors = [4, 4, 4, 3, 1000, 1000, 100, 1, 1, 1, 1, 1]\n",
    "    if len(self.cal_data['amount_metr']) != len(divisors):\n",
    "        raise ValueError(\"Length of divisors does not match length of amount_metr.\")\n",
    "    self.salable_amounts = []\n",
    "    for i, amount in enumerate(self.cal_data['amount_metr']):\n",
    "        salable_amount = self.find_smallest_divisible(amount, divisors[i])\n",
    "        self.salable_amounts.append(salable_amount)\n",
    "    self.knauf_list['salable_amount'] = self.salable_amounts\n",
    "\n",
    "\n",
    "\n",
    "\n",
    "  def save_to_excel(self):\n",
    "    if not hasattr(self, 'knauf_list'):\n",
    "        raise ValueError(\"The knauf_list has not been initialized. Please run concat_data first.\")\n",
    "    file_name = f\"{self.name_p}.xlsx\"\n",
    "    self.knauf_list.to_excel(file_name)\n",
    "    print(f'Data for material saved to {file_name}')\n",
    "\n",
    "\n",
    "\n",
    "\n",
    "\n"
   ]
  },
  {
   "cell_type": "code",
   "execution_count": null,
   "metadata": {},
   "outputs": [],
   "source": [
    "project = knauf()\n",
    "project.get_data()\n",
    "project.ceiling_typeA()\n",
    "project.create_dataframe_from_data()\n",
    "project.import_data()\n",
    "project.concat_data()\n",
    "project.add_salable_amount()\n",
    "project.save_to_excel()\n"
   ]
  },
  {
   "cell_type": "code",
   "execution_count": 18,
   "metadata": {},
   "outputs": [],
   "source": [
    "project = knauf()"
   ]
  },
  {
   "cell_type": "code",
   "execution_count": 19,
   "metadata": {},
   "outputs": [],
   "source": [
    "project.get_data()\n"
   ]
  },
  {
   "cell_type": "code",
   "execution_count": 55,
   "metadata": {},
   "outputs": [
    {
     "data": {
      "text/plain": [
       "{'nabshi_metr': 315.0,\n",
       " 'f_47_metr': 1530.0,\n",
       " 'u_36_metr': 384.75,\n",
       " 'panel_metr': 472.5,\n",
       " 'pich_panel_dane_adad': 7650,\n",
       " 'pich_saze_dane_adad': 5400,\n",
       " 'mikh_chashni_dane_adad': 855.0,\n",
       " 'ht_90_adad': 855.0,\n",
       " 'beraket_adad': 855.0,\n",
       " 'clips_adad': 1170.0,\n",
       " 'rabet_w_adad': 315.0,\n",
       " 'rolplak_adad': 944.9999999999999}"
      ]
     },
     "execution_count": 55,
     "metadata": {},
     "output_type": "execute_result"
    }
   ],
   "source": [
    "project.ceiling_typeA()"
   ]
  },
  {
   "cell_type": "code",
   "execution_count": 56,
   "metadata": {},
   "outputs": [
    {
     "data": {
      "text/plain": [
       "{'nabshi_metr': 315.0,\n",
       " 'f_47_metr': 1530.0,\n",
       " 'u_36_metr': 384.75,\n",
       " 'panel_metr': 472.5,\n",
       " 'pich_panel_dane_adad': 7650,\n",
       " 'pich_saze_dane_adad': 5400,\n",
       " 'mikh_chashni_dane_adad': 855.0,\n",
       " 'ht_90_adad': 855.0,\n",
       " 'beraket_adad': 855.0,\n",
       " 'clips_adad': 1170.0,\n",
       " 'rabet_w_adad': 315.0,\n",
       " 'rolplak_adad': 944.9999999999999}"
      ]
     },
     "execution_count": 56,
     "metadata": {},
     "output_type": "execute_result"
    }
   ],
   "source": [
    "project.data"
   ]
  },
  {
   "cell_type": "code",
   "execution_count": 57,
   "metadata": {},
   "outputs": [],
   "source": [
    "project.create_dataframe_from_data()\n"
   ]
  },
  {
   "cell_type": "code",
   "execution_count": 59,
   "metadata": {},
   "outputs": [
    {
     "data": {
      "text/html": [
       "<div>\n",
       "<style scoped>\n",
       "    .dataframe tbody tr th:only-of-type {\n",
       "        vertical-align: middle;\n",
       "    }\n",
       "\n",
       "    .dataframe tbody tr th {\n",
       "        vertical-align: top;\n",
       "    }\n",
       "\n",
       "    .dataframe thead th {\n",
       "        text-align: right;\n",
       "    }\n",
       "</style>\n",
       "<table border=\"1\" class=\"dataframe\">\n",
       "  <thead>\n",
       "    <tr style=\"text-align: right;\">\n",
       "      <th></th>\n",
       "      <th>amount_metr</th>\n",
       "    </tr>\n",
       "  </thead>\n",
       "  <tbody>\n",
       "    <tr>\n",
       "      <th>nabshi_metr</th>\n",
       "      <td>NaN</td>\n",
       "    </tr>\n",
       "    <tr>\n",
       "      <th>f_47_metr</th>\n",
       "      <td>NaN</td>\n",
       "    </tr>\n",
       "    <tr>\n",
       "      <th>u_36_metr</th>\n",
       "      <td>NaN</td>\n",
       "    </tr>\n",
       "    <tr>\n",
       "      <th>panel_metr</th>\n",
       "      <td>NaN</td>\n",
       "    </tr>\n",
       "    <tr>\n",
       "      <th>pich_panel_dane_adad</th>\n",
       "      <td>NaN</td>\n",
       "    </tr>\n",
       "    <tr>\n",
       "      <th>pich_saze_dane_adad</th>\n",
       "      <td>NaN</td>\n",
       "    </tr>\n",
       "    <tr>\n",
       "      <th>mikh_chashni_dane_adad</th>\n",
       "      <td>NaN</td>\n",
       "    </tr>\n",
       "    <tr>\n",
       "      <th>ht_90_adad</th>\n",
       "      <td>NaN</td>\n",
       "    </tr>\n",
       "    <tr>\n",
       "      <th>beraket_adad</th>\n",
       "      <td>NaN</td>\n",
       "    </tr>\n",
       "    <tr>\n",
       "      <th>clips_adad</th>\n",
       "      <td>NaN</td>\n",
       "    </tr>\n",
       "    <tr>\n",
       "      <th>rabet_w_adad</th>\n",
       "      <td>NaN</td>\n",
       "    </tr>\n",
       "    <tr>\n",
       "      <th>rolplak_adad</th>\n",
       "      <td>NaN</td>\n",
       "    </tr>\n",
       "  </tbody>\n",
       "</table>\n",
       "</div>"
      ],
      "text/plain": [
       "                       amount_metr\n",
       "nabshi_metr                    NaN\n",
       "f_47_metr                      NaN\n",
       "u_36_metr                      NaN\n",
       "panel_metr                     NaN\n",
       "pich_panel_dane_adad           NaN\n",
       "pich_saze_dane_adad            NaN\n",
       "mikh_chashni_dane_adad         NaN\n",
       "ht_90_adad                     NaN\n",
       "beraket_adad                   NaN\n",
       "clips_adad                     NaN\n",
       "rabet_w_adad                   NaN\n",
       "rolplak_adad                   NaN"
      ]
     },
     "execution_count": 59,
     "metadata": {},
     "output_type": "execute_result"
    }
   ],
   "source": [
    "project.cal_data"
   ]
  }
 ],
 "metadata": {
  "kernelspec": {
   "display_name": "base",
   "language": "python",
   "name": "python3"
  },
  "language_info": {
   "codemirror_mode": {
    "name": "ipython",
    "version": 3
   },
   "file_extension": ".py",
   "mimetype": "text/x-python",
   "name": "python",
   "nbconvert_exporter": "python",
   "pygments_lexer": "ipython3",
   "version": "3.11.5"
  }
 },
 "nbformat": 4,
 "nbformat_minor": 2
}
