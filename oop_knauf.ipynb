{
 "cells": [
  {
   "cell_type": "markdown",
   "metadata": {
    "colab_type": "text",
    "id": "view-in-github"
   },
   "source": [
    "<a href=\"https://colab.research.google.com/github/barsamnia/algorithm_curses_raofi/blob/main/oop_knauf.ipynb\" target=\"_parent\"><img src=\"https://colab.research.google.com/assets/colab-badge.svg\" alt=\"Open In Colab\"/></a>"
   ]
  },
  {
   "cell_type": "code",
   "execution_count": null,
   "metadata": {
    "colab": {
     "base_uri": "https://localhost:8080/"
    },
    "collapsed": true,
    "id": "oGS8VYRYcxcj",
    "outputId": "efb4a314-f214-4d61-9de2-913a4f7a4d13"
   },
   "outputs": [
    {
     "name": "stdout",
     "output_type": "stream",
     "text": [
      "Data for material saved to bina.xlsx\n"
     ]
    }
   ],
   "source": [
    "import pandas as pd\n",
    "\n",
    "class knauf():\n",
    "  def __init__(self, nabshi = None , f_47 = None , u_36 = None , panel = None, pich_panel = None, pich_saze = None ,mikh_chashni =None , ht_90 = None, beraket = None, clips = None, rabet_w = None, metrazh = int ,m_aviz = int , name_p = str, rolplak = None):\n",
    "\n",
    "    self.nabshi = nabshi\n",
    "    self.f_47 = f_47\n",
    "    self.u_36 = u_36\n",
    "    self.panel = panel\n",
    "    self.pich_panel = pich_panel\n",
    "    self.pich_saze = pich_saze\n",
    "    self.mikh_chashni = mikh_chashni\n",
    "    self.ht_90 = ht_90\n",
    "    self.beraket = beraket\n",
    "    self.clips = clips\n",
    "    self.rabet_w = rabet_w\n",
    "    self.metrazh = metrazh\n",
    "    self.m_aviz = m_aviz\n",
    "    self.name_p = name_p\n",
    "    self.rolplak = rolplak\n",
    "    #self.ceiling_typeA()\n",
    "\n",
    "  def __repr__(self):\n",
    "    \"\"\"\n",
    "    Returns:show defined class with getting data\n",
    "    \"\"\"\n",
    "    return 'knauf project {}, metrazh {} metr, andaze aviz {} cm '.format(self.name_p,self.metrazh,self.m_aviz)\n",
    "\n",
    "\n",
    "  def get_data(self):\n",
    "    try :\n",
    "            metrazh = int(input( \"metrazh_kar  : metr  \"))\n",
    "    except :\n",
    "            metrazh = int(input( \"metrazh_kar  : metr  \"))\n",
    "\n",
    "    try :\n",
    "            m_aviz = int(input(\"andaze aviz : cm  \"))\n",
    "    except :\n",
    "            m_aviz = int(input(\"andaze aviz : cm  \"))\n",
    "\n",
    "    try :\n",
    "            name_p = str(input(\"name proje :  \"))\n",
    "    except :\n",
    "            name_p = str(input(\"name proje :  \"))\n",
    "\n",
    "    self.metrazh = metrazh\n",
    "    self.m_aviz = m_aviz\n",
    "    self.name_p = name_p\n",
    "\n",
    "  def ceiling_typeA(self):\n",
    "    \"\"\"\n",
    "    Returns:calculate materials for ceiling type a\n",
    "    \"\"\"\n",
    "    self.nabshi = self.metrazh * 0.7\n",
    "    self.f_47 = self.metrazh * 3.4\n",
    "    self.u_36 = self.metrazh * (self.m_aviz * 0.019)\n",
    "    self.panel = self.metrazh * 1.05\n",
    "    self.pich_panel = self.metrazh * 17\n",
    "    self.pich_saze = self.metrazh * 12\n",
    "    self.mikh_chashni = self.metrazh * 1.9\n",
    "    self.ht_90 = self.metrazh * 1.9\n",
    "    self.beraket = self.metrazh * 1.9\n",
    "    self.clips = self.metrazh * 2.6\n",
    "    self.rabet_w = self.metrazh * 0.7\n",
    "    self.rolplak = self.metrazh * (0.7 * 3)\n",
    "    self.data = {\n",
    "            'nabshi_metr': self.nabshi,\n",
    "            'f_47_metr': self.f_47,\n",
    "            'u_36_metr': self.u_36,\n",
    "            'panel_metr': self.panel,\n",
    "            'pich_panel_dane_adad': self.pich_panel,\n",
    "            'pich_saze_dane_adad': self.pich_saze,\n",
    "            'mikh_chashni_dane_adad': self.mikh_chashni,\n",
    "            'ht_90_adad': self.ht_90,\n",
    "            'beraket_adad': self.beraket,\n",
    "            'clips_adad': self.clips,\n",
    "            'rabet_w_adad': self.rabet_w,\n",
    "            'rolplak_adad': self.rolplak\n",
    "        }\n",
    "    return self.data \n",
    "    \n",
    "  \n",
    "  \n",
    "  def round_to_selling(self, divisors):\n",
    "    \"\"\" Return data adjusted by specific divisors. \"\"\"\n",
    "    self.salable_amount = {}\n",
    "    for key, value in self.data.items():\n",
    "      divisor = divisors.get(key)\n",
    "      self.salable_amount[key] = round(value / divisor)\n",
    "    return self.salable_amount\n",
    "\n",
    "  '''divisors = [4,4,4,3,1000,1000,100,1,1,1,1,1]\n",
    "\n",
    "def find_smallest_divisible(self.data.items(), divisor):\n",
    "    while self.data.items() % divisor != 0:\n",
    "        self.data.items() += 1\n",
    "    return self.data.items()\n",
    "\n",
    "# اضافه کردن ستون جدید به DataFrame\n",
    "df2['salable_amount'] = 0\n",
    "\n",
    "for idx, divisor in zip(self.data.items(), divisors):\n",
    "    list_price.loc[idx, 'salable_amount'] = find_smallest_divisible(list_price.loc[idx, 'column2'], divisor)\n",
    "\n",
    "print(df2)\n",
    "'''\n",
    "\n",
    "  def import_data(self):\n",
    "     self.read_list = pd.read_excel('list_price.xlsx') #read a created list of material in excel that user created it\n",
    "\n",
    "\n",
    "  def produce_price_data(self):\n",
    "    '''produce a list of material by amount and price for user'''\n",
    "    amount_items = pd.DataFrame(self.data.items(), columns=['Material', 'Amount_metr']) #extract item's with amount\n",
    "    self.price_data = pd.concat([amount_items, self.read_list['mat_price'] ],  ignore_index= False, axis = 1)\n",
    "    salable_amount = project.round_to_selling(divisors) \n",
    "    salable_amount_df = pd.DataFrame(list(salable_amount.items()), columns=['Material', 'Amount'])\n",
    "    self.price_data['salable_amount_shakhe'] = salable_amount_df['Amount']\n",
    "    self.price_data['total_price'] = self.price_data['mat_price'] * self.price_data['salable_amount_shakhe']\n",
    "    return self.price_data\n",
    "\n",
    "  def save_to_excel(self):\n",
    "    file_name = f\"{self.name_p}.xlsx\"  # Add .xlsx extension to file name\n",
    "    df = pd.DataFrame(self.price_data, columns=['Material', 'Amount_metr','salable_amount_shakhe','mat_price', 'total_price' ])  # Convert data to DataFrame with two columns\n",
    "    df.to_excel(file_name, index=False)\n",
    "    print(f'Data for material saved to {file_name}')\n",
    "\n",
    "\n",
    "  def ceiling_typeA_price(self):\n",
    "    pass\n",
    "\n",
    "project = knauf()\n",
    "project.get_data()\n",
    "project.ceiling_typeA()\n",
    "divisors = { 'nabshi_metr': 4,\n",
    "             'f_47_metr': 4,\n",
    "             'u_36_metr': 4,\n",
    "             'panel_metr': 3,\n",
    "             'pich_panel_dane_adad': 1000,\n",
    "             'pich_saze_dane_adad': 1000,\n",
    "             'mikh_chashni_dane_adad': 100,\n",
    "             'ht_90_adad': 1, \n",
    "             'beraket_adad': 1, \n",
    "             'clips_adad': 1,\n",
    "             'rabet_w_adad': 1,\n",
    "             'rolplak_adad': 1 } \n",
    "\n",
    "salable_amount = project.round_to_selling(divisors) \n",
    "project.import_data()\n",
    "#project.find_smallest_divisible()\n",
    "project.produce_price_data()\n",
    "project.ceiling_typeA_price()\n",
    "project.save_to_excel()\n"
   ]
  },
  {
   "cell_type": "code",
   "execution_count": 4,
   "metadata": {
    "colab": {
     "base_uri": "https://localhost:8080/"
    },
    "id": "hA1r04MFhR9E",
    "outputId": "99af4c79-8960-4ca4-eb1b-30725d529200"
   },
   "outputs": [
    {
     "data": {
      "text/html": [
       "<div>\n",
       "<style scoped>\n",
       "    .dataframe tbody tr th:only-of-type {\n",
       "        vertical-align: middle;\n",
       "    }\n",
       "\n",
       "    .dataframe tbody tr th {\n",
       "        vertical-align: top;\n",
       "    }\n",
       "\n",
       "    .dataframe thead th {\n",
       "        text-align: right;\n",
       "    }\n",
       "</style>\n",
       "<table border=\"1\" class=\"dataframe\">\n",
       "  <thead>\n",
       "    <tr style=\"text-align: right;\">\n",
       "      <th></th>\n",
       "      <th>Material</th>\n",
       "      <th>Amount_metr</th>\n",
       "      <th>mat_price</th>\n",
       "      <th>salable_amount_shakhe</th>\n",
       "      <th>total_price</th>\n",
       "    </tr>\n",
       "  </thead>\n",
       "  <tbody>\n",
       "    <tr>\n",
       "      <th>0</th>\n",
       "      <td>nabshi_metr</td>\n",
       "      <td>315.0</td>\n",
       "      <td>142000</td>\n",
       "      <td>79</td>\n",
       "      <td>11218000</td>\n",
       "    </tr>\n",
       "    <tr>\n",
       "      <th>1</th>\n",
       "      <td>f_47_metr</td>\n",
       "      <td>1530.0</td>\n",
       "      <td>279000</td>\n",
       "      <td>382</td>\n",
       "      <td>106578000</td>\n",
       "    </tr>\n",
       "    <tr>\n",
       "      <th>2</th>\n",
       "      <td>u_36_metr</td>\n",
       "      <td>102.6</td>\n",
       "      <td>202000</td>\n",
       "      <td>26</td>\n",
       "      <td>5252000</td>\n",
       "    </tr>\n",
       "    <tr>\n",
       "      <th>3</th>\n",
       "      <td>panel_metr</td>\n",
       "      <td>472.5</td>\n",
       "      <td>1058000</td>\n",
       "      <td>158</td>\n",
       "      <td>167164000</td>\n",
       "    </tr>\n",
       "    <tr>\n",
       "      <th>4</th>\n",
       "      <td>pich_panel_dane_adad</td>\n",
       "      <td>7650.0</td>\n",
       "      <td>2540</td>\n",
       "      <td>8</td>\n",
       "      <td>20320</td>\n",
       "    </tr>\n",
       "    <tr>\n",
       "      <th>5</th>\n",
       "      <td>pich_saze_dane_adad</td>\n",
       "      <td>5400.0</td>\n",
       "      <td>2420</td>\n",
       "      <td>5</td>\n",
       "      <td>12100</td>\n",
       "    </tr>\n",
       "    <tr>\n",
       "      <th>6</th>\n",
       "      <td>mikh_chashni_dane_adad</td>\n",
       "      <td>855.0</td>\n",
       "      <td>35000</td>\n",
       "      <td>9</td>\n",
       "      <td>315000</td>\n",
       "    </tr>\n",
       "    <tr>\n",
       "      <th>7</th>\n",
       "      <td>ht_90_adad</td>\n",
       "      <td>855.0</td>\n",
       "      <td>16400</td>\n",
       "      <td>855</td>\n",
       "      <td>14022000</td>\n",
       "    </tr>\n",
       "    <tr>\n",
       "      <th>8</th>\n",
       "      <td>beraket_adad</td>\n",
       "      <td>855.0</td>\n",
       "      <td>34200</td>\n",
       "      <td>855</td>\n",
       "      <td>29241000</td>\n",
       "    </tr>\n",
       "    <tr>\n",
       "      <th>9</th>\n",
       "      <td>clips_adad</td>\n",
       "      <td>1170.0</td>\n",
       "      <td>30700</td>\n",
       "      <td>1170</td>\n",
       "      <td>35919000</td>\n",
       "    </tr>\n",
       "    <tr>\n",
       "      <th>10</th>\n",
       "      <td>rabet_w_adad</td>\n",
       "      <td>315.0</td>\n",
       "      <td>27100</td>\n",
       "      <td>315</td>\n",
       "      <td>8536500</td>\n",
       "    </tr>\n",
       "    <tr>\n",
       "      <th>11</th>\n",
       "      <td>rolplak_adad</td>\n",
       "      <td>945.0</td>\n",
       "      <td>40000</td>\n",
       "      <td>945</td>\n",
       "      <td>37800000</td>\n",
       "    </tr>\n",
       "  </tbody>\n",
       "</table>\n",
       "</div>"
      ],
      "text/plain": [
       "                  Material  Amount_metr  mat_price  salable_amount_shakhe  \\\n",
       "0              nabshi_metr        315.0     142000                     79   \n",
       "1                f_47_metr       1530.0     279000                    382   \n",
       "2                u_36_metr        102.6     202000                     26   \n",
       "3               panel_metr        472.5    1058000                    158   \n",
       "4     pich_panel_dane_adad       7650.0       2540                      8   \n",
       "5      pich_saze_dane_adad       5400.0       2420                      5   \n",
       "6   mikh_chashni_dane_adad        855.0      35000                      9   \n",
       "7               ht_90_adad        855.0      16400                    855   \n",
       "8             beraket_adad        855.0      34200                    855   \n",
       "9               clips_adad       1170.0      30700                   1170   \n",
       "10            rabet_w_adad        315.0      27100                    315   \n",
       "11            rolplak_adad        945.0      40000                    945   \n",
       "\n",
       "    total_price  \n",
       "0      11218000  \n",
       "1     106578000  \n",
       "2       5252000  \n",
       "3     167164000  \n",
       "4         20320  \n",
       "5         12100  \n",
       "6        315000  \n",
       "7      14022000  \n",
       "8      29241000  \n",
       "9      35919000  \n",
       "10      8536500  \n",
       "11     37800000  "
      ]
     },
     "execution_count": 4,
     "metadata": {},
     "output_type": "execute_result"
    }
   ],
   "source": [
    "project.produce_price_data()"
   ]
  },
  {
   "cell_type": "code",
   "execution_count": 7,
   "metadata": {},
   "outputs": [
    {
     "data": {
      "text/plain": [
       "knauf project bina, metrazh 450 metr, andaze aviz 12 cm "
      ]
     },
     "execution_count": 7,
     "metadata": {},
     "output_type": "execute_result"
    }
   ],
   "source": [
    "project"
   ]
  },
  {
   "cell_type": "code",
   "execution_count": 8,
   "metadata": {},
   "outputs": [
    {
     "data": {
      "text/plain": [
       "dict_items([('nabshi_metr', 315.0), ('f_47_metr', 1530.0), ('u_36_metr', 102.6), ('panel_metr', 472.5), ('pich_panel_dane_adad', 7650), ('pich_saze_dane_adad', 5400), ('mikh_chashni_dane_adad', 855.0), ('ht_90_adad', 855.0), ('beraket_adad', 855.0), ('clips_adad', 1170.0), ('rabet_w_adad', 315.0), ('rolplak_adad', 944.9999999999999)])"
      ]
     },
     "execution_count": 8,
     "metadata": {},
     "output_type": "execute_result"
    }
   ],
   "source": [
    "project.data.items()"
   ]
  },
  {
   "cell_type": "code",
   "execution_count": 5,
   "metadata": {
    "colab": {
     "base_uri": "https://localhost:8080/"
    },
    "id": "XZ2v4TGSlzf2",
    "outputId": "c3c98d26-bcc2-4634-85fc-fe23bce7ff2d"
   },
   "outputs": [],
   "source": [
    "f = dict(project.data.items())"
   ]
  },
  {
   "cell_type": "code",
   "execution_count": 6,
   "metadata": {},
   "outputs": [
    {
     "data": {
      "text/plain": [
       "dict_values([315.0, 1530.0, 102.6, 472.5, 7650, 5400, 855.0, 855.0, 855.0, 1170.0, 315.0, 944.9999999999999])"
      ]
     },
     "execution_count": 6,
     "metadata": {},
     "output_type": "execute_result"
    }
   ],
   "source": [
    "f.values()"
   ]
  },
  {
   "cell_type": "code",
   "execution_count": null,
   "metadata": {},
   "outputs": [],
   "source": []
  }
 ],
 "metadata": {
  "colab": {
   "authorship_tag": "ABX9TyMDOQ0o5trWR0fij2eDiHSW",
   "include_colab_link": true,
   "provenance": []
  },
  "kernelspec": {
   "display_name": "base",
   "language": "python",
   "name": "python3"
  },
  "language_info": {
   "codemirror_mode": {
    "name": "ipython",
    "version": 3
   },
   "file_extension": ".py",
   "mimetype": "text/x-python",
   "name": "python",
   "nbconvert_exporter": "python",
   "pygments_lexer": "ipython3",
   "version": "3.11.5"
  }
 },
 "nbformat": 4,
 "nbformat_minor": 0
}
