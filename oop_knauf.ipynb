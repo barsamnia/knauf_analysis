{
 "cells": [
  {
   "cell_type": "markdown",
   "metadata": {
    "colab_type": "text",
    "id": "view-in-github"
   },
   "source": [
    "<a href=\"https://colab.research.google.com/github/barsamnia/algorithm_curses_raofi/blob/main/oop_knauf.ipynb\" target=\"_parent\"><img src=\"https://colab.research.google.com/assets/colab-badge.svg\" alt=\"Open In Colab\"/></a>"
   ]
  },
  {
   "cell_type": "code",
   "execution_count": 22,
   "metadata": {
    "colab": {
     "base_uri": "https://localhost:8080/"
    },
    "collapsed": true,
    "id": "oGS8VYRYcxcj",
    "outputId": "efb4a314-f214-4d61-9de2-913a4f7a4d13"
   },
   "outputs": [
    {
     "name": "stdout",
     "output_type": "stream",
     "text": [
      "Data for material saved to ziba.xlsx\n"
     ]
    }
   ],
   "source": [
    "import pandas as pd\n",
    "\n",
    "class knauf():\n",
    "  def __init__(self, nabshi = None , f_47 = None , u_36 = None , panel = None, pich_panel = None, pich_saze = None ,mikh_chashni =None , ht_90 = None, beraket = None, clips = None, rabet_w = None, metrazh = int ,m_aviz = int , name_p = str, rolplak = None):\n",
    "\n",
    "    self.nabshi = nabshi\n",
    "    self.f_47 = f_47\n",
    "    self.u_36 = u_36\n",
    "    self.panel = panel\n",
    "    self.pich_panel = pich_panel\n",
    "    self.pich_saze = pich_saze\n",
    "    self.mikh_chashni = mikh_chashni\n",
    "    self.ht_90 = ht_90\n",
    "    self.beraket = beraket\n",
    "    self.clips = clips\n",
    "    self.rabet_w = rabet_w\n",
    "    self.metrazh = metrazh\n",
    "    self.m_aviz = m_aviz\n",
    "    self.name_p = name_p\n",
    "    self.rolplak = rolplak\n",
    "    #self.ceiling_typeA()\n",
    "\n",
    "  def __repr__(self):\n",
    "    \"\"\"\n",
    "    Returns:show defined class with getting data\n",
    "    \"\"\"\n",
    "    return 'knauf project {}, metrazh {} metr, andaze aviz {} cm '.format(self.name_p,self.metrazh,self.m_aviz)\n",
    "\n",
    "\n",
    "  def get_data(self):\n",
    "    try :\n",
    "            metrazh = int(input( \"metrazh_kar  : metr  \"))\n",
    "    except :\n",
    "            metrazh = int(input( \"metrazh_kar  : metr  \"))\n",
    "\n",
    "    try :\n",
    "            m_aviz = int(input(\"andaze aviz : cm  \"))\n",
    "    except :\n",
    "            m_aviz = int(input(\"andaze aviz : cm  \"))\n",
    "\n",
    "    try :\n",
    "            name_p = str(input(\"name proje :  \"))\n",
    "    except :\n",
    "            name_p = str(input(\"name proje :  \"))\n",
    "\n",
    "    self.metrazh = metrazh\n",
    "    self.m_aviz = m_aviz\n",
    "    self.name_p = name_p\n",
    "\n",
    "  def ceiling_typeA(self):\n",
    "    \"\"\"\n",
    "    Returns:calculate materials for ceiling type a\n",
    "    \"\"\"\n",
    "    self.nabshi = self.metrazh * 0.7\n",
    "    self.f_47 = self.metrazh * 3.4\n",
    "    self.u_36 = self.metrazh * (self.m_aviz * 0.019)\n",
    "    self.panel = self.metrazh * 1.05\n",
    "    self.pich_panel = self.metrazh * 17\n",
    "    self.pich_saze = self.metrazh * 12\n",
    "    self.mikh_chashni = self.metrazh * 1.9\n",
    "    self.ht_90 = self.metrazh * 1.9\n",
    "    self.beraket = self.metrazh * 1.9\n",
    "    self.clips = self.metrazh * 2.6\n",
    "    self.rabet_w = self.metrazh * 0.7\n",
    "    self.rolplak = self.metrazh * (0.7 * 3)\n",
    "    self.data = {\n",
    "            'nabshi_metr': self.nabshi,\n",
    "            'f_47_metr': self.f_47,\n",
    "            'u_36_metr': self.u_36,\n",
    "            'panel_metr': self.panel,\n",
    "            'pich_panel_dane_adad': self.pich_panel,\n",
    "            'pich_saze_dane_adad': self.pich_saze,\n",
    "            'mikh_chashni_dane_adad': self.mikh_chashni,\n",
    "            'ht_90_adad': self.ht_90,\n",
    "            'beraket_adad': self.beraket,\n",
    "            'clips_adad': self.clips,\n",
    "            'rabet_w_adad': self.rabet_w,\n",
    "            'rolplak_adad': self.rolplak\n",
    "        }\n",
    "    return self.data \n",
    "    \n",
    "  \n",
    "\n",
    "  def save_to_excel(self):\n",
    "    file_name = f\"{self.name_p}.xlsx\"  # Add .xlsx extension to file name\n",
    "    df = pd.DataFrame(self.price_data, columns=['Material', 'Amount','mat_price', 'total_price'])  # Convert data to DataFrame with two columns\n",
    "    df.to_excel(file_name, index=False)\n",
    "    print(f'Data for material saved to {file_name}')\n",
    "\n",
    "  def import_data(self):\n",
    "     self.read_list = pd.read_excel('list_price.xlsx') #read a created list of material in excel that user created it\n",
    "\n",
    "\n",
    "  def produce_price_data(self):\n",
    "    '''produce a list of material by amount and price for user'''\n",
    "    amount_items = pd.DataFrame(self.data.items(), columns=['Material', 'Amount']) #extract item's with amount\n",
    "    self.price_data = pd.concat([amount_items, self.read_list['mat_price']],  ignore_index= False, axis = 1)\n",
    "    self.price_data['total_price'] = self.read_list['mat_price'] * amount_items['Amount']\n",
    "    return self.price_data\n",
    "\n",
    "  \n",
    "\n",
    "  def ceiling_typeA_price(self):\n",
    "    pass\n",
    "\n",
    "project = knauf()\n",
    "project.get_data()\n",
    "project.ceiling_typeA()\n",
    "project.import_data()\n",
    "project.produce_price_data()\n",
    "project.ceiling_typeA_price()\n",
    "project.save_to_excel()\n",
    "\n",
    "#project = Knauf() \n",
    "#project.get_data() \n",
    "#project.ceiling_typeA() \n",
    "#project.import_data() \n",
    "#project.ceiling_typeA_price() \n",
    "#project.save_to_excel() \n",
    "#print(project)\n"
   ]
  },
  {
   "cell_type": "code",
   "execution_count": 16,
   "metadata": {},
   "outputs": [],
   "source": [
    "project.ceiling_typeA_price()"
   ]
  },
  {
   "cell_type": "code",
   "execution_count": 17,
   "metadata": {
    "colab": {
     "base_uri": "https://localhost:8080/"
    },
    "id": "O7l-7WBbWBIB",
    "outputId": "2a465993-04a4-4359-dcb3-b1040f97b100"
   },
   "outputs": [
    {
     "data": {
      "text/plain": [
       "{'nabshi_metr': 315.0,\n",
       " 'f_47_metr': 1530.0,\n",
       " 'u_36_metr': 384.75,\n",
       " 'panel_metr': 472.5,\n",
       " 'pich_panel_dane_adad': 7650,\n",
       " 'pich_saze_dane_adad': 5400,\n",
       " 'mikh_chashni_dane_adad': 855.0,\n",
       " 'ht_90_adad': 855.0,\n",
       " 'beraket_adad': 855.0,\n",
       " 'clips_adad': 1170.0,\n",
       " 'rabet_w_adad': 315.0,\n",
       " 'rolplak_adad': 944.9999999999999}"
      ]
     },
     "execution_count": 17,
     "metadata": {},
     "output_type": "execute_result"
    }
   ],
   "source": [
    "project.data"
   ]
  },
  {
   "cell_type": "code",
   "execution_count": 20,
   "metadata": {
    "colab": {
     "base_uri": "https://localhost:8080/"
    },
    "id": "hA1r04MFhR9E",
    "outputId": "99af4c79-8960-4ca4-eb1b-30725d529200"
   },
   "outputs": [
    {
     "data": {
      "text/html": [
       "<div>\n",
       "<style scoped>\n",
       "    .dataframe tbody tr th:only-of-type {\n",
       "        vertical-align: middle;\n",
       "    }\n",
       "\n",
       "    .dataframe tbody tr th {\n",
       "        vertical-align: top;\n",
       "    }\n",
       "\n",
       "    .dataframe thead th {\n",
       "        text-align: right;\n",
       "    }\n",
       "</style>\n",
       "<table border=\"1\" class=\"dataframe\">\n",
       "  <thead>\n",
       "    <tr style=\"text-align: right;\">\n",
       "      <th></th>\n",
       "      <th>Material</th>\n",
       "      <th>Amount</th>\n",
       "      <th>mat_price</th>\n",
       "      <th>price_mat</th>\n",
       "    </tr>\n",
       "  </thead>\n",
       "  <tbody>\n",
       "    <tr>\n",
       "      <th>0</th>\n",
       "      <td>nabshi_metr</td>\n",
       "      <td>315.00</td>\n",
       "      <td>142000</td>\n",
       "      <td>44730000.0</td>\n",
       "    </tr>\n",
       "    <tr>\n",
       "      <th>1</th>\n",
       "      <td>f_47_metr</td>\n",
       "      <td>1530.00</td>\n",
       "      <td>279000</td>\n",
       "      <td>426870000.0</td>\n",
       "    </tr>\n",
       "    <tr>\n",
       "      <th>2</th>\n",
       "      <td>u_36_metr</td>\n",
       "      <td>384.75</td>\n",
       "      <td>202000</td>\n",
       "      <td>77719500.0</td>\n",
       "    </tr>\n",
       "    <tr>\n",
       "      <th>3</th>\n",
       "      <td>panel_metr</td>\n",
       "      <td>472.50</td>\n",
       "      <td>1058000</td>\n",
       "      <td>499905000.0</td>\n",
       "    </tr>\n",
       "    <tr>\n",
       "      <th>4</th>\n",
       "      <td>pich_panel_dane_adad</td>\n",
       "      <td>7650.00</td>\n",
       "      <td>2540</td>\n",
       "      <td>19431000.0</td>\n",
       "    </tr>\n",
       "    <tr>\n",
       "      <th>5</th>\n",
       "      <td>pich_saze_dane_adad</td>\n",
       "      <td>5400.00</td>\n",
       "      <td>2420</td>\n",
       "      <td>13068000.0</td>\n",
       "    </tr>\n",
       "    <tr>\n",
       "      <th>6</th>\n",
       "      <td>mikh_chashni_dane_adad</td>\n",
       "      <td>855.00</td>\n",
       "      <td>35000</td>\n",
       "      <td>29925000.0</td>\n",
       "    </tr>\n",
       "    <tr>\n",
       "      <th>7</th>\n",
       "      <td>ht_90_adad</td>\n",
       "      <td>855.00</td>\n",
       "      <td>16400</td>\n",
       "      <td>14022000.0</td>\n",
       "    </tr>\n",
       "    <tr>\n",
       "      <th>8</th>\n",
       "      <td>beraket_adad</td>\n",
       "      <td>855.00</td>\n",
       "      <td>34200</td>\n",
       "      <td>29241000.0</td>\n",
       "    </tr>\n",
       "    <tr>\n",
       "      <th>9</th>\n",
       "      <td>clips_adad</td>\n",
       "      <td>1170.00</td>\n",
       "      <td>30700</td>\n",
       "      <td>35919000.0</td>\n",
       "    </tr>\n",
       "    <tr>\n",
       "      <th>10</th>\n",
       "      <td>rabet_w_adad</td>\n",
       "      <td>315.00</td>\n",
       "      <td>27100</td>\n",
       "      <td>8536500.0</td>\n",
       "    </tr>\n",
       "    <tr>\n",
       "      <th>11</th>\n",
       "      <td>rolplak_adad</td>\n",
       "      <td>945.00</td>\n",
       "      <td>40000</td>\n",
       "      <td>37800000.0</td>\n",
       "    </tr>\n",
       "  </tbody>\n",
       "</table>\n",
       "</div>"
      ],
      "text/plain": [
       "                  Material   Amount  mat_price    price_mat\n",
       "0              nabshi_metr   315.00     142000   44730000.0\n",
       "1                f_47_metr  1530.00     279000  426870000.0\n",
       "2                u_36_metr   384.75     202000   77719500.0\n",
       "3               panel_metr   472.50    1058000  499905000.0\n",
       "4     pich_panel_dane_adad  7650.00       2540   19431000.0\n",
       "5      pich_saze_dane_adad  5400.00       2420   13068000.0\n",
       "6   mikh_chashni_dane_adad   855.00      35000   29925000.0\n",
       "7               ht_90_adad   855.00      16400   14022000.0\n",
       "8             beraket_adad   855.00      34200   29241000.0\n",
       "9               clips_adad  1170.00      30700   35919000.0\n",
       "10            rabet_w_adad   315.00      27100    8536500.0\n",
       "11            rolplak_adad   945.00      40000   37800000.0"
      ]
     },
     "execution_count": 20,
     "metadata": {},
     "output_type": "execute_result"
    }
   ],
   "source": [
    "project.produce_price_data()"
   ]
  },
  {
   "cell_type": "code",
   "execution_count": 27,
   "metadata": {
    "colab": {
     "base_uri": "https://localhost:8080/"
    },
    "id": "XZ2v4TGSlzf2",
    "outputId": "c3c98d26-bcc2-4634-85fc-fe23bce7ff2d"
   },
   "outputs": [
    {
     "data": {
      "text/plain": [
       "623.0"
      ]
     },
     "execution_count": 27,
     "metadata": {},
     "output_type": "execute_result"
    }
   ],
   "source": [
    "project.nabshi"
   ]
  }
 ],
 "metadata": {
  "colab": {
   "authorship_tag": "ABX9TyMDOQ0o5trWR0fij2eDiHSW",
   "include_colab_link": true,
   "provenance": []
  },
  "kernelspec": {
   "display_name": "Python 3",
   "name": "python3"
  },
  "language_info": {
   "codemirror_mode": {
    "name": "ipython",
    "version": 3
   },
   "file_extension": ".py",
   "mimetype": "text/x-python",
   "name": "python",
   "nbconvert_exporter": "python",
   "pygments_lexer": "ipython3",
   "version": "3.13.0"
  }
 },
 "nbformat": 4,
 "nbformat_minor": 0
}
