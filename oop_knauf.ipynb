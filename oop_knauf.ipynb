{
  "cells": [
    {
      "cell_type": "markdown",
      "metadata": {
        "id": "view-in-github",
        "colab_type": "text"
      },
      "source": [
        "<a href=\"https://colab.research.google.com/github/barsamnia/algorithm_curses_raofi/blob/main/oop_knauf.ipynb\" target=\"_parent\"><img src=\"https://colab.research.google.com/assets/colab-badge.svg\" alt=\"Open In Colab\"/></a>"
      ]
    },
    {
      "cell_type": "code",
      "execution_count": 79,
      "metadata": {
        "collapsed": true,
        "id": "oGS8VYRYcxcj",
        "colab": {
          "base_uri": "https://localhost:8080/"
        },
        "outputId": "efb4a314-f214-4d61-9de2-913a4f7a4d13"
      },
      "outputs": [
        {
          "output_type": "stream",
          "name": "stdout",
          "text": [
            "metrazh_kar  : metr  330\n",
            "andaze aviz : cm  20\n",
            "name proje :  barsamnia2\n",
            "Data for material saved to barsamnia2.xlsx\n"
          ]
        },
        {
          "output_type": "execute_result",
          "data": {
            "text/plain": [
              "knauf project barsamnia2, metrazh 330 metr, andaze aviz 20 cm "
            ]
          },
          "metadata": {},
          "execution_count": 79
        }
      ],
      "source": [
        "import pandas as pd\n",
        "\n",
        "class knauf():\n",
        "  def __init__(self, nabshi = None , f_47 = None , u_36 = None , panel = None, pich_panel = None, pich_saze = None ,mikh_chashni =None , ht_90 = None, beraket = None, clips = None, rabet_w = None, metrazh = int ,m_aviz = int , name_p = str, rolplak = None):\n",
        "\n",
        "    self.nabshi = nabshi\n",
        "    self.f_47 = f_47\n",
        "    self.u_36 = u_36\n",
        "    self.panel = panel\n",
        "    self.pich_panel = pich_panel\n",
        "    self.pich_saze = pich_saze\n",
        "    self.mikh_chashni = mikh_chashni\n",
        "    self.ht_90 = ht_90\n",
        "    self.beraket = beraket\n",
        "    self.clips = clips\n",
        "    self.rabet_w = rabet_w\n",
        "    self.metrazh = metrazh\n",
        "    self.m_aviz = m_aviz\n",
        "    self.name_p = name_p\n",
        "    self.rolplak = rolplak\n",
        "    #self.ceiling_typeA()\n",
        "\n",
        "  def __repr__(self):\n",
        "    \"\"\"\n",
        "    Returns:show defined class with getting data\n",
        "    \"\"\"\n",
        "    return 'knauf project {}, metrazh {} metr, andaze aviz {} cm '.format(self.name_p,self.metrazh,self.m_aviz)\n",
        "\n",
        "\n",
        "  def get_data(self):\n",
        "    try :\n",
        "            metrazh = int(input( \"metrazh_kar  : metr  \"))\n",
        "    except :\n",
        "            metrazh = int(input( \"metrazh_kar  : metr  \"))\n",
        "\n",
        "    try :\n",
        "            m_aviz = int(input(\"andaze aviz : cm  \"))\n",
        "    except :\n",
        "            m_aviz = int(input(\"andaze aviz : cm  \"))\n",
        "\n",
        "    try :\n",
        "            name_p = str(input(\"name proje :  \"))\n",
        "    except :\n",
        "            name_p = str(input(\"name proje :  \"))\n",
        "\n",
        "    self.metrazh = metrazh\n",
        "    self.m_aviz = m_aviz\n",
        "    self.name_p = name_p\n",
        "\n",
        "  def ceiling_typeA(self):\n",
        "    \"\"\"\n",
        "    Returns:calculate materials for ceiling type a\n",
        "    \"\"\"\n",
        "    self.nabshi = self.metrazh * 0.7\n",
        "    self.f_47 = self.metrazh * 3.4\n",
        "    self.u_36 = self.metrazh * (self.m_aviz * 0.019)\n",
        "    self.panel = self.metrazh * 1.05\n",
        "    self.pich_panel = self.metrazh * 17\n",
        "    self.pich_saze = self.metrazh * 12\n",
        "    self.mikh_chashni = self.metrazh * 1.9\n",
        "    self.ht_90 = self.metrazh * 1.9\n",
        "    self.beraket = self.metrazh * 1.9\n",
        "    self.clips = self.metrazh * 2.6\n",
        "    self.rabet_w = self.metrazh * 0.7\n",
        "    self.rolplak = self.metrazh * (0.7 * 3)\n",
        "    material = {\n",
        "            'nabshi_metr': self.nabshi,\n",
        "            'f_47_metr': self.f_47,\n",
        "            'u_36_metr': self.u_36,\n",
        "            'panel_metr': self.panel,\n",
        "            'pich_panel_dane_adad': self.pich_panel,\n",
        "            'pich_saze_dane_adad': self.pich_saze,\n",
        "            'mikh_chashni_dane_adad': self.mikh_chashni,\n",
        "            'ht_90_adad': self.ht_90,\n",
        "            'beraket_adad': self.beraket,\n",
        "            'clips_adad': self.clips,\n",
        "            'rabet_w_adad': self.rabet_w,\n",
        "            'rolplak_adad': self.rolplak\n",
        "        }\n",
        "    self.data = material\n",
        "    return material\n",
        "\n",
        "  def save_to_excel(self):\n",
        "    \"\"\"\n",
        "    Save the material data to an Excel file named after the project.\n",
        "    \"\"\"\n",
        "    file_name = f\"{self.name_p}.xlsx\"  # Add .xlsx extension to file name\n",
        "    df = pd.DataFrame(self.data.items(), columns=['Material', 'Amount'])  # Convert data to DataFrame with two columns\n",
        "    df.to_excel(file_name, index=False)\n",
        "    print(f'Data for material saved to {file_name}')\n",
        "\n",
        "project = knauf()\n",
        "project.get_data()\n",
        "project.ceiling_typeA()\n",
        "project.save_to_excel()\n",
        "project\n"
      ]
    },
    {
      "cell_type": "code",
      "source": [
        "project.data"
      ],
      "metadata": {
        "colab": {
          "base_uri": "https://localhost:8080/"
        },
        "id": "O7l-7WBbWBIB",
        "outputId": "2a465993-04a4-4359-dcb3-b1040f97b100"
      },
      "execution_count": 80,
      "outputs": [
        {
          "output_type": "execute_result",
          "data": {
            "text/plain": [
              "{'nabshi_metr': 230.99999999999997,\n",
              " 'f_47_metr': 1122.0,\n",
              " 'u_36_metr': 125.4,\n",
              " 'panel_metr': 346.5,\n",
              " 'pich_panel_dane_adad': 5610,\n",
              " 'pich_saze_dane_adad': 3960,\n",
              " 'mikh_chashni_dane_adad': 627.0,\n",
              " 'ht_90_adad': 627.0,\n",
              " 'beraket_adad': 627.0,\n",
              " 'clips_adad': 858.0,\n",
              " 'rabet_w_adad': 230.99999999999997,\n",
              " 'rolplak_adad': 692.9999999999999}"
            ]
          },
          "metadata": {},
          "execution_count": 80
        }
      ]
    },
    {
      "cell_type": "code",
      "source": [
        "project.u_36"
      ],
      "metadata": {
        "colab": {
          "base_uri": "https://localhost:8080/"
        },
        "id": "hA1r04MFhR9E",
        "outputId": "99af4c79-8960-4ca4-eb1b-30725d529200"
      },
      "execution_count": 82,
      "outputs": [
        {
          "output_type": "execute_result",
          "data": {
            "text/plain": [
              "125.4"
            ]
          },
          "metadata": {},
          "execution_count": 82
        }
      ]
    },
    {
      "cell_type": "code",
      "source": [
        "project.nabshi"
      ],
      "metadata": {
        "colab": {
          "base_uri": "https://localhost:8080/"
        },
        "id": "XZ2v4TGSlzf2",
        "outputId": "c3c98d26-bcc2-4634-85fc-fe23bce7ff2d"
      },
      "execution_count": 83,
      "outputs": [
        {
          "output_type": "execute_result",
          "data": {
            "text/plain": [
              "230.99999999999997"
            ]
          },
          "metadata": {},
          "execution_count": 83
        }
      ]
    }
  ],
  "metadata": {
    "colab": {
      "provenance": [],
      "authorship_tag": "ABX9TyMDOQ0o5trWR0fij2eDiHSW",
      "include_colab_link": true
    },
    "kernelspec": {
      "display_name": "Python 3",
      "name": "python3"
    },
    "language_info": {
      "name": "python"
    }
  },
  "nbformat": 4,
  "nbformat_minor": 0
}