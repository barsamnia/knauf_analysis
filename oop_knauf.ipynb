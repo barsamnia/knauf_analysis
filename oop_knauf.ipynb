{
  "cells": [
    {
      "cell_type": "markdown",
      "metadata": {
        "id": "view-in-github",
        "colab_type": "text"
      },
      "source": [
        "<a href=\"https://colab.research.google.com/github/barsamnia/knauf_analysis/blob/main/oop_knauf.ipynb\" target=\"_parent\"><img src=\"https://colab.research.google.com/assets/colab-badge.svg\" alt=\"Open In Colab\"/></a>"
      ]
    },
    {
      "cell_type": "code",
      "execution_count": null,
      "metadata": {
        "collapsed": true,
        "id": "oGS8VYRYcxcj",
        "colab": {
          "base_uri": "https://localhost:8080/"
        },
        "outputId": "efb4a314-f214-4d61-9de2-913a4f7a4d13"
      },
      "outputs": [
        {
          "output_type": "stream",
          "name": "stdout",
          "text": [
            "metrazh_kar  : metr  330\n",
            "andaze aviz : cm  20\n",
            "name proje :  barsamnia2\n",
            "Data for material saved to barsamnia2.xlsx\n"
          ]
        },
        {
          "output_type": "execute_result",
          "data": {
            "text/plain": [
              "knauf project barsamnia2, metrazh 330 metr, andaze aviz 20 cm "
            ]
          },
          "metadata": {},
          "execution_count": 79
        }
      ],
      "source": [
        "import pandas as pd\n",
        "\n",
        "class knauf():\n",
        "  def __init__(self, nabshi = None , f_47 = None , u_36 = None , panel = None, pich_panel = None, pich_saze = None ,mikh_chashni =None , ht_90 = None, beraket = None, clips = None, rabet_w = None, metrazh = int ,m_aviz = int , name_p = str, rolplak = None):\n",
        "\n",
        "    self.nabshi = nabshi\n",
        "    self.f_47 = f_47\n",
        "    self.u_36 = u_36\n",
        "    self.panel = panel\n",
        "    self.pich_panel = pich_panel\n",
        "    self.pich_saze = pich_saze\n",
        "    self.mikh_chashni = mikh_chashni\n",
        "    self.ht_90 = ht_90\n",
        "    self.beraket = beraket\n",
        "    self.clips = clips\n",
        "    self.rabet_w = rabet_w\n",
        "    self.metrazh = metrazh\n",
        "    self.m_aviz = m_aviz\n",
        "    self.name_p = name_p\n",
        "    self.rolplak = rolplak\n",
        "    #self.ceiling_typeA()\n",
        "\n",
        "  def __repr__(self):\n",
        "    \"\"\"\n",
        "    Returns:show defined class with getting data\n",
        "    \"\"\"\n",
        "    return 'knauf project {}, metrazh {} metr, andaze aviz {} cm '.format(self.name_p,self.metrazh,self.m_aviz)\n",
        "\n",
        "\n",
        "  def get_data(self):\n",
        "    try :\n",
        "            metrazh = int(input( \"metrazh_kar  : metr  \"))\n",
        "    except :\n",
        "            metrazh = int(input( \"metrazh_kar  : metr  \"))\n",
        "\n",
        "    try :\n",
        "            m_aviz = int(input(\"andaze aviz : cm  \"))\n",
        "    except :\n",
        "            m_aviz = int(input(\"andaze aviz : cm  \"))\n",
        "\n",
        "    try :\n",
        "            name_p = str(input(\"name proje :  \"))\n",
        "    except :\n",
        "            name_p = str(input(\"name proje :  \"))\n",
        "\n",
        "    self.metrazh = metrazh\n",
        "    self.m_aviz = m_aviz\n",
        "    self.name_p = name_p\n",
        "\n",
        "  def ceiling_typeA(self):\n",
        "    \"\"\"\n",
        "    Returns:calculate materials for ceiling type a\n",
        "    \"\"\"\n",
        "    self.nabshi = self.metrazh * 0.7\n",
        "    self.f_47 = self.metrazh * 3.4\n",
        "    self.u_36 = self.metrazh * (self.m_aviz * 0.019)\n",
        "    self.panel = self.metrazh * 1.05\n",
        "    self.pich_panel = self.metrazh * 17\n",
        "    self.pich_saze = self.metrazh * 12\n",
        "    self.mikh_chashni = self.metrazh * 1.9\n",
        "    self.ht_90 = self.metrazh * 1.9\n",
        "    self.beraket = self.metrazh * 1.9\n",
        "    self.clips = self.metrazh * 2.6\n",
        "    self.rabet_w = self.metrazh * 0.7\n",
        "    self.rolplak = self.metrazh * (0.7 * 3)\n",
        "    material = {\n",
        "            'nabshi_metr': self.nabshi,\n",
        "            'f_47_metr': self.f_47,\n",
        "            'u_36_metr': self.u_36,\n",
        "            'panel_metr': self.panel,\n",
        "            'pich_panel_dane_adad': self.pich_panel,\n",
        "            'pich_saze_dane_adad': self.pich_saze,\n",
        "            'mikh_chashni_dane_adad': self.mikh_chashni,\n",
        "            'ht_90_adad': self.ht_90,\n",
        "            'beraket_adad': self.beraket,\n",
        "            'clips_adad': self.clips,\n",
        "            'rabet_w_adad': self.rabet_w,\n",
        "            'rolplak_adad': self.rolplak\n",
        "        }\n",
        "    self.data = material\n",
        "    return material\n",
        "\n",
        "  def save_to_excel(self):\n",
        "    \"\"\"\n",
        "    Save the material data to an Excel file named after the project.\n",
        "    \"\"\"\n",
        "    file_name = f\"{self.name_p}.xlsx\"  # Add .xlsx extension to file name\n",
        "    df = pd.DataFrame(self.data.items(), columns=['Material', 'Amount'])  # Convert data to DataFrame with two columns\n",
        "    df.to_excel(file_name, index=False)\n",
        "    print(f'Data for material saved to {file_name}')\n",
        "\n",
        "project = knauf()\n",
        "project.get_data()\n",
        "project.ceiling_typeA()\n",
        "project.save_to_excel()\n",
        "project"
      ]
    },
    {
      "cell_type": "code",
      "source": [
        "\n",
        "import pandas as pd\n",
        "import os\n",
        "\n",
        "class knauf():\n",
        "  def __init__(self, nabshi = None , f_47 = None , u_36 = None , panel = None, pich_panel = None,\n",
        "              pich_saze = None ,mikh_chashni =None , ht_90 = None, beraket = None,\n",
        "              clips = None, rabet_w = None, metrazh = int ,m_aviz = int , name_p = str,rolplak = None):\n",
        "    self.nabshi = nabshi\n",
        "    self.f_47 = f_47\n",
        "    self.u_36 = u_36\n",
        "    self.panel = panel\n",
        "    self.pich_panel = pich_panel\n",
        "    self.pich_saze = pich_saze\n",
        "    self.mikh_chashni = mikh_chashni\n",
        "    self.ht_90 = ht_90\n",
        "    self.beraket = beraket\n",
        "    self.clips = clips\n",
        "    self.rabet_w = rabet_w\n",
        "    self.metrazh = metrazh\n",
        "    self.m_aviz = m_aviz\n",
        "    self.name_p = name_p\n",
        "    self.rolplak = rolplak\n",
        "    #self.ceiling_typeA()\n",
        "\n",
        "  def __repr__(self):\n",
        "    \"\"\" Returns:show defined class with getting data \"\"\"\n",
        "    return 'knauf project {}, metrazh {} metr, andaze aviz {} cm '.format(self.name_p,self.metrazh,self.m_aviz)\n",
        "\n",
        "  '''getting undefaulf data from user'''\n",
        "  def get_data(self):\n",
        "    try :\n",
        "      metrazh = int(input( \"metrazh_kar  : metr  \"))\n",
        "    except :\n",
        "      metrazh = int(input( \"metrazh_kar  : metr  \"))\n",
        "\n",
        "    try :\n",
        "      m_aviz = int(input(\"andaze aviz : cm  \"))\n",
        "    except :\n",
        "      m_aviz = int(input(\"andaze aviz : cm  \"))\n",
        "\n",
        "    try :\n",
        "      name_p = str(input(\"name proje :  \"))\n",
        "    except :\n",
        "      name_p = str(input(\"name proje :  \"))\n",
        "\n",
        "    self.metrazh = metrazh\n",
        "    self.m_aviz = m_aviz\n",
        "    self.name_p = name_p\n",
        "\n",
        "  def ceiling_typeA(self):\n",
        "    \"\"\" Returns:calculate materials for ceiling type A \"\"\"\n",
        "    self.nabshi = round(self.metrazh * 0.7)\n",
        "    self.f_47 = round(self.metrazh * 3.4)\n",
        "    self.u_36 = round(self.metrazh * (self.m_aviz * 0.019))\n",
        "    self.panel = round(self.metrazh * 1.05)\n",
        "    self.pich_panel = round(self.metrazh * 17)\n",
        "    self.pich_saze = round(self.metrazh * 12)\n",
        "    self.mikh_chashni = round(self.metrazh * 1.9)\n",
        "    self.ht_90 = round(self.metrazh * 1.9)\n",
        "    self.beraket = round(self.metrazh * 1.9)\n",
        "    self.clips = round(self.metrazh * 2.6)\n",
        "    self.rabet_w = round(self.metrazh * 0.7)\n",
        "    self.rolplak = round(self.metrazh * (0.7 * 3))\n",
        "    self.data = {\n",
        "            'nabshi_metr': self.nabshi,\n",
        "            'f_47_metr': self.f_47,\n",
        "            'u_36_metr': self.u_36,\n",
        "            'panel_metr': self.panel,\n",
        "            'pich_panel_dane_adad': self.pich_panel,\n",
        "            'pich_saze_dane_adad': self.pich_saze,\n",
        "            'mikh_chashni_dane_adad': self.mikh_chashni,\n",
        "            'ht_90_adad': self.ht_90,\n",
        "            'beraket_adad': self.beraket,\n",
        "            'clips_adad': self.clips,\n",
        "            'rabet_w_adad': self.rabet_w,\n",
        "            'rolplak_adad': self.rolplak\n",
        "           }\n",
        "    return self.data\n",
        "\n",
        "  def create_dataframe_from_data(self):\n",
        "    self.cal_data = pd.DataFrame(list(self.data.items()), columns = ['Materials', 'amount_metr'] )\n",
        "    return self.cal_data\n",
        "\n",
        "  ''' read a created list of material in excel that user created it ,Material and mat_price  are columns '''\n",
        "  def import_data(self):\n",
        "    if not os.path.exists('list_price.xlsx'):\n",
        "        raise FileNotFoundError(\"The file 'list_price.xlsx' does not exist.\")\n",
        "    self.read_list = pd.read_excel('list_price.xlsx'    )\n",
        "\n",
        "\n",
        "  def concat_data(self):\n",
        "    # Ensure both dataframes have the same number of rows before concatenating\n",
        "    # This assumes that the order of materials in self.read_list and self.cal_data\n",
        "    # is consistent. If not, a merge operation might be more appropriate.\n",
        "    if len(self.read_list) != len(self.cal_data):\n",
        "        raise ValueError(\"The number of materials in 'list_price.xlsx' does not match the calculated materials.\")\n",
        "    self.knauf_list = pd.concat([self.read_list, self.cal_data['amount_metr']], axis=1)\n",
        "\n",
        "\n",
        "  '''define for calculate salabale amount of materials '''\n",
        "  def find_smallest_divisible(self, value, divisor):\n",
        "    if divisor == 0:\n",
        "        raise ValueError(\"Divisor cannot be zero.\")\n",
        "    while value % divisor != 0:\n",
        "        value += 1\n",
        "    return value\n",
        "\n",
        "\n",
        "  def add_salable_amount(self):\n",
        "    divisors = [4, 4, 4, 3, 1000, 1000, 100, 1, 1, 1, 1, 1]\n",
        "    if len(self.cal_data['amount_metr']) != len(divisors):\n",
        "        raise ValueError(\"Length of divisors does not match length of amount_metr.\")\n",
        "    self.salable_amounts = []\n",
        "    for i, amount_metr in enumerate(self.cal_data['amount_metr']):\n",
        "        salable_amount = self.find_smallest_divisible(amount_metr, divisors[i])\n",
        "        self.salable_amounts.append(salable_amount)\n",
        "    self.knauf_list['salable_amount'] = self.salable_amounts\n",
        "\n",
        "\n",
        "  def calculate_mat_price(self):\n",
        "     self.knauf_list['material_price'] = self.knauf_list['salable_amount'] * self.knauf_list['mat_price']\n",
        "\n",
        "  def add_sale_percentages(self):\n",
        "    # Define percentages based on material type or apply generally\n",
        "    # You had a commented-out logic for percentages based on material name.\n",
        "    # This current implementation applies a general percentage.\n",
        "    # If you need material-specific percentages, you'll need a mapping\n",
        "    # and apply it row by row or using pandas apply.\n",
        "\n",
        "    # Example: Applying a general 2.5% for 'baste_bandi'\n",
        "    self.knauf_list['baste_bandi'] = self.knauf_list['material_price'] * 0.025\n",
        "\n",
        "    # Calculate 'first_percentage'\n",
        "    self.knauf_list['first_percentage'] = self.knauf_list['material_price'] + self.knauf_list['baste_bandi']\n",
        "\n",
        "    # Calculate 'anbar_dari'\n",
        "    self.knauf_list['anbar_dari'] = self.knauf_list['first_percentage'] * 0.01 # 1% of first_percentage\n",
        "\n",
        "    # Calculate 'maliat_afzode'\n",
        "    self.knauf_list['maliat_afzode'] = (self.knauf_list['first_percentage'] + self.knauf_list['anbar_dari']) * 0.1 # 10%\n",
        "\n",
        "    # Add a row for the total sum\n",
        "    # Create a list of sum values corresponding to each column in self.knauf_list\n",
        "    total_values = []\n",
        "    for col in self.knauf_list.columns:\n",
        "        if col == 'Materials':\n",
        "            total_values.append('Total')\n",
        "        elif self.knauf_list[col].dtype in ['int64', 'float64']:\n",
        "            total_values.append(self.knauf_list[col].sum())\n",
        "        else:\n",
        "            total_values.append('') # Add empty string for non-numeric columns\n",
        "\n",
        "    # Ensure the list of total values has the same number of elements as columns\n",
        "    # This is crucial to avoid the ValueError\n",
        "    if len(total_values) != len(self.knauf_list.columns):\n",
        "         raise ValueError(\"Internal error: Mismatch between total values and columns.\")\n",
        "\n",
        "    total_row = pd.DataFrame([total_values], columns=self.knauf_list.columns)\n",
        "\n",
        "    self.knauf_list = pd.concat([self.knauf_list, total_row], ignore_index=True)\n",
        "\n",
        "\n",
        "  def save_to_excel(self):\n",
        "    if not hasattr(self, 'knauf_list'):\n",
        "        raise ValueError(\"The knauf_list has not been initialized. Please run concat_data first.\")\n",
        "    file_name = f\"{self.name_p}.xlsx\"\n",
        "    # Exclude index when saving to excel\n",
        "    self.knauf_list.to_excel(file_name, index=False)\n",
        "    print(f'Data for material saved to {file_name}')\n",
        "\n",
        "# Example usage (assuming list_price.xlsx exists with 'Material' and 'mat_price' columns)\n",
        "# Create a dummy list_price.xlsx for testing if it doesn't exist\n",
        "if not os.path.exists('list_price.xlsx'):\n",
        "    dummy_data = {'Material': ['nabshi_metr', 'f_47_metr', 'u_36_metr', 'panel_metr', 'pich_panel_dane_adad', 'pich_saze_dane_adad', 'mikh_chashni_dane_adad', 'ht_90_adad', 'beraket_adad', 'clips_adad', 'rabet_w_adad', 'rolplak_adad'],\n",
        "                  'mat_price': [10, 20, 15, 50, 1, 0.5, 0.2, 5, 6, 3, 4, 2]}\n",
        "    dummy_df = pd.DataFrame(dummy_data)\n",
        "    dummy_df.to_excel('list_price.xlsx', index=False)\n",
        "    print(\"Created a dummy 'list_price.xlsx' for testing.\")\n",
        "\n",
        "\n",
        "project = knauf()\n",
        "# You will be prompted to enter data\n",
        "project.get_data()\n",
        "project.ceiling_typeA()\n",
        "project.create_dataframe_from_data()\n",
        "project.import_data()\n",
        "project.concat_data()\n",
        "project.add_salable_amount()\n",
        "project.calculate_mat_price()\n",
        "project.add_sale_percentages()\n",
        "project.save_to_excel()"
      ],
      "metadata": {
        "id": "R4IB7l5h9R1I",
        "outputId": "7effcdd5-9802-45f5-990b-bce6ded54a44",
        "colab": {
          "base_uri": "https://localhost:8080/"
        }
      },
      "execution_count": null,
      "outputs": [
        {
          "output_type": "stream",
          "name": "stdout",
          "text": [
            "metrazh_kar  : metr  ۵۰\n",
            "andaze aviz : cm  ۴۰\n",
            "name proje :  K3\n",
            "Data for material saved to K3.xlsx\n"
          ]
        }
      ]
    },
    {
      "cell_type": "code",
      "source": [
        "project.data"
      ],
      "metadata": {
        "colab": {
          "base_uri": "https://localhost:8080/"
        },
        "id": "O7l-7WBbWBIB",
        "outputId": "2a465993-04a4-4359-dcb3-b1040f97b100"
      },
      "execution_count": null,
      "outputs": [
        {
          "output_type": "execute_result",
          "data": {
            "text/plain": [
              "{'nabshi_metr': 230.99999999999997,\n",
              " 'f_47_metr': 1122.0,\n",
              " 'u_36_metr': 125.4,\n",
              " 'panel_metr': 346.5,\n",
              " 'pich_panel_dane_adad': 5610,\n",
              " 'pich_saze_dane_adad': 3960,\n",
              " 'mikh_chashni_dane_adad': 627.0,\n",
              " 'ht_90_adad': 627.0,\n",
              " 'beraket_adad': 627.0,\n",
              " 'clips_adad': 858.0,\n",
              " 'rabet_w_adad': 230.99999999999997,\n",
              " 'rolplak_adad': 692.9999999999999}"
            ]
          },
          "metadata": {},
          "execution_count": 80
        }
      ]
    },
    {
      "cell_type": "code",
      "source": [
        "project.u_36"
      ],
      "metadata": {
        "colab": {
          "base_uri": "https://localhost:8080/"
        },
        "id": "hA1r04MFhR9E",
        "outputId": "99af4c79-8960-4ca4-eb1b-30725d529200"
      },
      "execution_count": null,
      "outputs": [
        {
          "output_type": "execute_result",
          "data": {
            "text/plain": [
              "125.4"
            ]
          },
          "metadata": {},
          "execution_count": 82
        }
      ]
    },
    {
      "cell_type": "code",
      "source": [
        "project.nabshi"
      ],
      "metadata": {
        "colab": {
          "base_uri": "https://localhost:8080/"
        },
        "id": "XZ2v4TGSlzf2",
        "outputId": "c3c98d26-bcc2-4634-85fc-fe23bce7ff2d"
      },
      "execution_count": null,
      "outputs": [
        {
          "output_type": "execute_result",
          "data": {
            "text/plain": [
              "230.99999999999997"
            ]
          },
          "metadata": {},
          "execution_count": 83
        }
      ]
    }
  ],
  "metadata": {
    "colab": {
      "provenance": [],
      "toc_visible": true,
      "authorship_tag": "ABX9TyPNFJgZ+nuYBG76vn8k/OHw",
      "include_colab_link": true
    },
    "kernelspec": {
      "display_name": "Python 3",
      "name": "python3"
    },
    "language_info": {
      "name": "python"
    }
  },
  "nbformat": 4,
  "nbformat_minor": 0
}