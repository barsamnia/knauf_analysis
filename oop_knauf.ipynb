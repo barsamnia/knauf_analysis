{
  "nbformat": 4,
  "nbformat_minor": 0,
  "metadata": {
    "colab": {
      "provenance": [],
      "authorship_tag": "ABX9TyP6/knB9AfU5Y+X5JvmLxGJ",
      "include_colab_link": true
    },
    "kernelspec": {
      "name": "python3",
      "display_name": "Python 3"
    },
    "language_info": {
      "name": "python"
    }
  },
  "cells": [
    {
      "cell_type": "markdown",
      "metadata": {
        "id": "view-in-github",
        "colab_type": "text"
      },
      "source": [
        "<a href=\"https://colab.research.google.com/github/barsamnia/knauf_analysis/blob/main/oop_knauf.ipynb\" target=\"_parent\"><img src=\"https://colab.research.google.com/assets/colab-badge.svg\" alt=\"Open In Colab\"/></a>"
      ]
    },
    {
      "cell_type": "code",
      "execution_count": 25,
      "metadata": {
        "collapsed": true,
        "id": "oGS8VYRYcxcj"
      },
      "outputs": [],
      "source": [
        "class knauf():\n",
        "  def __init__(self, nabshi = None , f_47 = None , u_36 = None , panel = None, pich_panel = None, pich_saze = None ,mikh_chashni =None , ht_90 = None, beraket = None, clips = None, rabet_w = None, metrazh = int ,m_aviz = int , name_p = str, rolplak = None):\n",
        "    self.nabshi = nabshi\n",
        "    self.f_47 = f_47\n",
        "    self.u_36 = u_36\n",
        "    self.panel = panel\n",
        "    self.pich_panel = pich_panel\n",
        "    self.pich_saze = pich_saze\n",
        "    self.mikh_chashni = mikh_chashni\n",
        "    self.ht_90 = ht_90\n",
        "    self.beraket = beraket\n",
        "    self.clips = clips\n",
        "    self.rabet_w = rabet_w\n",
        "    self.metrazh = metrazh\n",
        "    self.m_aviz = m_aviz\n",
        "    self.name_p = name_p\n",
        "    self.rolplak = rolplak\n",
        "\n",
        "    def saghf_typeA (self):\n",
        "      t_nabshi = self.metrazh * 0.7\n",
        "      t_f_47 = self.metrazh * 3.4\n",
        "      t_u_36 = self.metrazh * (m_aviz * 0.019)\n",
        "      t_panel = self.metrazh * 1.05\n",
        "      t_pich_panel = self.metrazh * 17\n",
        "      t_pich_saze = self.metrazh * 12\n",
        "      t_mikh_chashni = self.metrazh * 1.9\n",
        "      t_ht_90 = self.metrazh * 1.9\n",
        "      t_beraket = self.metrazh * 1.9\n",
        "      t_clips = self.metrazh * 2.6\n",
        "      t_rabet_w = self.metrazh * 0.7\n",
        "      t_rolplak = self.metrazh * (0.7 * 3)\n",
        "      return print(saght_typeA())\n",
        ""
      ]
    },
    {
      "cell_type": "code",
      "source": [
        "mat = knauf(150, 40, 'namazi')"
      ],
      "metadata": {
        "id": "eBrKJ5LjeaAu"
      },
      "execution_count": 26,
      "outputs": []
    },
    {
      "cell_type": "code",
      "source": [
        "saghf_typeA.beraket"
      ],
      "metadata": {
        "colab": {
          "base_uri": "https://localhost:8080/",
          "height": 176
        },
        "id": "qyW6t2xQpN-8",
        "outputId": "1971302a-8b01-40ca-b384-3c2d08fb2974"
      },
      "execution_count": 27,
      "outputs": [
        {
          "output_type": "error",
          "ename": "NameError",
          "evalue": "name 'saghf_typeA' is not defined",
          "traceback": [
            "\u001b[0;31m---------------------------------------------------------------------------\u001b[0m",
            "\u001b[0;31mNameError\u001b[0m                                 Traceback (most recent call last)",
            "\u001b[0;32m<ipython-input-27-a449a8e521f0>\u001b[0m in \u001b[0;36m<cell line: 1>\u001b[0;34m()\u001b[0m\n\u001b[0;32m----> 1\u001b[0;31m \u001b[0msaghf_typeA\u001b[0m\u001b[0;34m.\u001b[0m\u001b[0mberaket\u001b[0m\u001b[0;34m\u001b[0m\u001b[0;34m\u001b[0m\u001b[0m\n\u001b[0m",
            "\u001b[0;31mNameError\u001b[0m: name 'saghf_typeA' is not defined"
          ]
        }
      ]
    }
  ]
}